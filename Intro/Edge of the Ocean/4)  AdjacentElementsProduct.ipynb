{
 "cells": [
  {
   "cell_type": "markdown",
   "metadata": {},
   "source": [
    "# Adjacent Elements Product\n",
    "\n",
    "## Given an array of integers, find the pair of adjacent elements that has the largest product and return that product.\n",
    "\n",
    "**Example**\n",
    "\n",
    "For ```inputArray = [3, 6, -2, -5, 7, 3]```, the output should be ```adjacentElementsProduct(inputArray) = 21.```\n",
    "\n",
    "```7``` and ```3``` produce the largest product.\n",
    "\n",
    "**Input/Output**\n",
    "\n",
    "- **[execution time limit] 4 seconds (py3)**\n",
    "\n",
    "- **[input] array.integer inputArray**\n",
    "\n",
    "An array of integers containing at least two elements.\n",
    "\n",
    "*Guaranteed constraints:*\n",
    "\n",
    "```2 ≤ inputArray.length ≤ 10```,\n",
    "\n",
    "```-1000 ≤ inputArray[i] ≤ 1000```.\n",
    "\n",
    "**[output] integer**\n",
    "\n",
    "The largest product of adjacent elements.\n"
   ]
  },
  {
   "cell_type": "markdown",
   "metadata": {},
   "source": [
    "### Function"
   ]
  },
  {
   "cell_type": "code",
   "execution_count": 1,
   "metadata": {},
   "outputs": [],
   "source": [
    "def adjacentElementsProduct(inputArray):\n",
    "\n",
    "    temp = []\n",
    "    for i in range(len(inputArray)-1):\n",
    "    \n",
    "        temp.append(inputArray[i]*inputArray[i+1])\n",
    "        \n",
    "    return max(temp)"
   ]
  },
  {
   "cell_type": "markdown",
   "metadata": {},
   "source": [
    "### Test"
   ]
  },
  {
   "cell_type": "code",
   "execution_count": 2,
   "metadata": {},
   "outputs": [
    {
     "name": "stdout",
     "output_type": "stream",
     "text": [
      "21\n",
      "6\n",
      "50\n"
     ]
    }
   ],
   "source": [
    "array = [[3, 6, -2, -5, 7, 3],[5, 1, 2, 3, 1, 4],[9, 5, 10, 2, 24, -1, -48]]\n",
    "\n",
    "for i in range(len(array)):\n",
    "    \n",
    "    print(adjacentElementsProduct(array[i]))"
   ]
  },
  {
   "cell_type": "code",
   "execution_count": null,
   "metadata": {},
   "outputs": [],
   "source": []
  }
 ],
 "metadata": {
  "kernelspec": {
   "display_name": "Python 3",
   "language": "python",
   "name": "python3"
  },
  "language_info": {
   "codemirror_mode": {
    "name": "ipython",
    "version": 3
   },
   "file_extension": ".py",
   "mimetype": "text/x-python",
   "name": "python",
   "nbconvert_exporter": "python",
   "pygments_lexer": "ipython3",
   "version": "3.6.4"
  }
 },
 "nbformat": 4,
 "nbformat_minor": 2
}
