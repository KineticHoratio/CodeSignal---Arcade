{
 "cells": [
  {
   "cell_type": "markdown",
   "metadata": {},
   "source": [
    "# Almost Increasing Sequence\n",
    "\n",
    "Given a sequence of integers as an array, determine whether it is possible to obtain a strictly increasing sequence by \n",
    "removing no more than one element from the array.\n",
    "\n",
    "**Example**\n",
    "\n",
    "- For ```sequence = [1, 3, 2, 1]```, the output should be ```almostIncreasingSequence(sequence) = false```.\n",
    "\n",
    "There is no one element in this array that can be removed in order to get a strictly increasing sequence.\n",
    "\n",
    "- For ```sequence = [1, 3, 2]```, the output should be ```almostIncreasingSequence(sequence) = true```.\n",
    "\n",
    "You can remove ```3``` from the array to get the strictly increasing sequence ```[1, 2]```. Alternately, \n",
    "you can remove ```2``` to get the strictly increasing sequence ```[1, 3]```.\n",
    "\n",
    "**Input/Output**\n",
    "\n",
    "- **[execution time limit] 4 seconds (py3)**\n",
    "\n",
    "- **[input] array.integer sequence**\n",
    "\n",
    "*Guaranteed constraints:*\n",
    "\n",
    "```2 ≤ sequence.length ≤ 105```,\n",
    "\n",
    "```-105 ≤ sequence[i] ≤ 105```.\n",
    "\n",
    "**[output] boolean**\n",
    "\n",
    "Return ```True``` if it is possible to remove one element from the array in order to get a strictly increasing sequence, \n",
    "otherwise return ```False```."
   ]
  },
  {
   "cell_type": "markdown",
   "metadata": {},
   "source": [
    "### Function"
   ]
  },
  {
   "cell_type": "raw",
   "metadata": {},
   "source": [
    "Function to determine if the array is a sequence"
   ]
  },
  {
   "cell_type": "code",
   "execution_count": 1,
   "metadata": {},
   "outputs": [],
   "source": [
    "def seq(y):\n",
    "        x = []\n",
    "        for i in range(len(y)-1):\n",
    "            \n",
    "            if y[i+1]>y[i]:\n",
    "                x.append(True)\n",
    "            else:\n",
    "                x.append(False)\n",
    "                break\n",
    "        \n",
    "        if False in x:\n",
    "        \n",
    "            return False\n",
    "        \n",
    "        else:\n",
    "            return True"
   ]
  },
  {
   "cell_type": "raw",
   "metadata": {},
   "source": [
    "Function to determine if the array is almost a sequence"
   ]
  },
  {
   "cell_type": "code",
   "execution_count": 2,
   "metadata": {},
   "outputs": [],
   "source": [
    "def almostIncreasingSequence(sequence):\n",
    "    \n",
    "    y = []    \n",
    "    for i in range(len(sequence)):\n",
    "    \n",
    "        y.append(seq(sequence[:i]+sequence[i+1:]))\n",
    "        \n",
    "    if True in y:\n",
    "        \n",
    "        return True\n",
    "    \n",
    "    else:\n",
    "        return False"
   ]
  },
  {
   "cell_type": "markdown",
   "metadata": {},
   "source": [
    "### Test"
   ]
  },
  {
   "cell_type": "code",
   "execution_count": 3,
   "metadata": {},
   "outputs": [
    {
     "name": "stdout",
     "output_type": "stream",
     "text": [
      "False\n",
      "True\n",
      "False\n",
      "False\n"
     ]
    }
   ],
   "source": [
    "sequence = [[1, 3, 2, 1],[1, 3, 2],[1, 2, 1, 2],[1, 4, 10, 4, 2]]\n",
    "\n",
    "for i in range(len(sequence)):\n",
    "    \n",
    "    print(almostIncreasingSequence(sequence[i]))"
   ]
  }
 ],
 "metadata": {
  "kernelspec": {
   "display_name": "Python 3",
   "language": "python",
   "name": "python3"
  },
  "language_info": {
   "codemirror_mode": {
    "name": "ipython",
    "version": 3
   },
   "file_extension": ".py",
   "mimetype": "text/x-python",
   "name": "python",
   "nbconvert_exporter": "python",
   "pygments_lexer": "ipython3",
   "version": "3.6.4"
  }
 },
 "nbformat": 4,
 "nbformat_minor": 2
}
