{
 "cells": [
  {
   "cell_type": "markdown",
   "metadata": {},
   "source": [
    "# Make Array Consecutive2\n",
    "\n",
    "Ratiorg got statues of different sizes as a present from CodeMaster for his birthday, each statue having an non-negative integer size. \n",
    "Since he likes to make things perfect, he wants to arrange them from smallest to largest so that each statue will be bigger \n",
    "than the previous one exactly by 1. He may need some additional statues to be able to accomplish that. \n",
    "Help him figure out the minimum number of additional statues needed.\n",
    "\n",
    "**Example**\n",
    "\n",
    "For ```statues = [6, 2, 3, 8]```, the output should be ```makeArrayConsecutive2(statues) = 3```.\n",
    "\n",
    "Ratiorg needs statues of sizes ```4```, ```5``` and ```7```.\n",
    "\n",
    "**Input/Output**\n",
    "\n",
    "- **[execution time limit] 4 seconds (py3)**\n",
    "\n",
    "**[input] array.integer statues**\n",
    "\n",
    "An array of distinct non-negative integers.\n",
    "\n",
    "*Guaranteed constraints:*\n",
    "\n",
    "```1 ≤ statues.length ≤ 10```,\n",
    "\n",
    "```0 ≤ statues[i] ≤ 20```.\n",
    "\n",
    "-**[output] integer**\n",
    "\n",
    "The minimal number of statues that need to be added to existing ```statues``` such that it contains every integer size from an interval \n",
    "```[L, R]``` (for some ```L, R```) and no other sizes."
   ]
  },
  {
   "cell_type": "markdown",
   "metadata": {},
   "source": [
    "### Function"
   ]
  },
  {
   "cell_type": "code",
   "execution_count": 1,
   "metadata": {},
   "outputs": [],
   "source": [
    "def makeArrayConsecutive2(statues):\n",
    "    a = min(statues) # Estatua más pequeña\n",
    "    b = max(statues) # Estatua más grande\n",
    "    \n",
    "    x = list(range(a,b)) \n",
    "    y = 0 # Contador\n",
    "    \n",
    "    for i in range(len(x)):\n",
    "        if x[i]  not in statues: # condicional: si no encuentra el número \n",
    "            y += 1\n",
    "    \n",
    "    return y"
   ]
  },
  {
   "cell_type": "markdown",
   "metadata": {},
   "source": [
    "### Test"
   ]
  },
  {
   "cell_type": "code",
   "execution_count": 3,
   "metadata": {},
   "outputs": [
    {
     "name": "stdout",
     "output_type": "stream",
     "text": [
      "3\n",
      "2\n",
      "0\n",
      "2\n"
     ]
    }
   ],
   "source": [
    "statues = [[6, 2, 3, 8],[0,3],[5, 4, 6],[6, 3]]\n",
    "\n",
    "for i in range(len(statues)):\n",
    "    \n",
    "    print(makeArrayConsecutive2(statues[i]))"
   ]
  }
 ],
 "metadata": {
  "kernelspec": {
   "display_name": "Python 3",
   "language": "python",
   "name": "python3"
  },
  "language_info": {
   "codemirror_mode": {
    "name": "ipython",
    "version": 3
   },
   "file_extension": ".py",
   "mimetype": "text/x-python",
   "name": "python",
   "nbconvert_exporter": "python",
   "pygments_lexer": "ipython3",
   "version": "3.6.4"
  }
 },
 "nbformat": 4,
 "nbformat_minor": 2
}
