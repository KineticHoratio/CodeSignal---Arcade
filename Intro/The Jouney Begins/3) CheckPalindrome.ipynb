{
 "cells": [
  {
   "cell_type": "markdown",
   "metadata": {},
   "source": [
    "# Check Palindrome\n",
    "\n",
    "## Given the string, check if it is a palindrome.\n",
    "\n",
    "  - *A palindrome is a string that reads the same left-to-right and right-to-left.*\n",
    "\n",
    "**Example**\n",
    "\n",
    "For ```inputString = \"aabaa\"```, the output should be ```checkPalindrome(inputString) = true```;\n",
    "\n",
    "For ```inputString = \"abac\"```, the output should be ```checkPalindrome(inputString) = false```;\n",
    "\n",
    "For ```inputString = \"a\", the output should be ```checkPalindrome(inputString) = true```.\n",
    "\n",
    "**Input/Output**\n",
    "\n",
    "- **[execution time limit] 4 seconds (py3)**\n",
    "\n",
    "- **[input] string inputString**\n",
    "\n",
    "A non-empty string consisting of lowercase characters.\n",
    "\n",
    " *Guaranteed constraints:*\n",
    "\n",
    "```1 ≤ inputString.length ≤ 105.```\n",
    "\n",
    "- **[output] boolean**\n",
    "\n",
    "```True``` if ```inputString``` is a palindrome, ```false``` otherwise."
   ]
  },
  {
   "cell_type": "markdown",
   "metadata": {},
   "source": [
    "### Function"
   ]
  },
  {
   "cell_type": "code",
   "execution_count": 1,
   "metadata": {},
   "outputs": [],
   "source": [
    "def checkPalindrome(inputString):\n",
    " # [::-1] = reversa \n",
    "    return inputString[::-1] == inputString"
   ]
  },
  {
   "cell_type": "markdown",
   "metadata": {},
   "source": [
    "### Test"
   ]
  },
  {
   "cell_type": "code",
   "execution_count": 2,
   "metadata": {},
   "outputs": [
    {
     "name": "stdout",
     "output_type": "stream",
     "text": [
      "True\n",
      "False\n",
      "True\n",
      "False\n",
      "True\n"
     ]
    }
   ],
   "source": [
    " inputString = [\"aabaa\",\"abcd\",\"a\",\"az\",\"abacaba\"]\n",
    "\n",
    "for i in range(len(inputString)):\n",
    "    \n",
    "    print(checkPalindrome(inputString[i]))"
   ]
  }
 ],
 "metadata": {
  "kernelspec": {
   "display_name": "Python 3",
   "language": "python",
   "name": "python3"
  },
  "language_info": {
   "codemirror_mode": {
    "name": "ipython",
    "version": 3
   },
   "file_extension": ".py",
   "mimetype": "text/x-python",
   "name": "python",
   "nbconvert_exporter": "python",
   "pygments_lexer": "ipython3",
   "version": "3.6.4"
  }
 },
 "nbformat": 4,
 "nbformat_minor": 2
}
