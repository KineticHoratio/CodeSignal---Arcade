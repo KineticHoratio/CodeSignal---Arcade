{
 "cells": [
  {
   "cell_type": "markdown",
   "metadata": {},
   "source": [
    "# Century From Year\n",
    "\n",
    "Given a year, return the century it is in. The first century spans from the year 1 up to and including the year 100, the second - from the year 101 up to and including the year 200, etc.\n",
    "\n",
    "**Example**\n",
    "\n",
    "For ```year = 1905```, the output should be ```centuryFromYear(year) = 20```;\n",
    "\n",
    "For ```year = 1700```, the output should be ```centuryFromYear(year) = 17```.\n",
    "\n",
    "**Input/Output**\n",
    "\n",
    "* **[execution time limit] 4 seconds (py3)**\n",
    "\n",
    "* **[input] integer year**\n",
    "\n",
    "A positive integer, designating the year.\n",
    "\n",
    " *Guaranteed constraints:*\n",
    "\n",
    "```1 ≤ year ≤ 2005.```\n",
    "\n",
    "* **[output] integer**\n",
    "\n",
    "The number of the century the year is in."
   ]
  },
  {
   "cell_type": "markdown",
   "metadata": {},
   "source": [
    "### Function"
   ]
  },
  {
   "cell_type": "code",
   "execution_count": 1,
   "metadata": {},
   "outputs": [],
   "source": [
    "# Solve 1\n",
    "def centuryFromYear(year):\n",
    "\n",
    "    return int((year - 1) / 100) + 1\n",
    "\n",
    "# Solve 2\n",
    "def centuryFromYear(year):\n",
    "    import math\n",
    "    \n",
    "    return math.ceil(year/100)"
   ]
  },
  {
   "cell_type": "markdown",
   "metadata": {},
   "source": [
    "### Test"
   ]
  },
  {
   "cell_type": "code",
   "execution_count": 4,
   "metadata": {},
   "outputs": [
    {
     "name": "stdout",
     "output_type": "stream",
     "text": [
      "19\n",
      "1\n",
      "20\n",
      "21\n",
      "20\n"
     ]
    }
   ],
   "source": [
    "test = [1900,10,2000,2018,1917]\n",
    "\n",
    "for i in range(len(test)):\n",
    "    print(centuryFromYear(test[i]))"
   ]
  }
 ],
 "metadata": {
  "kernelspec": {
   "display_name": "Python 3",
   "language": "python",
   "name": "python3"
  },
  "language_info": {
   "codemirror_mode": {
    "name": "ipython",
    "version": 3
   },
   "file_extension": ".py",
   "mimetype": "text/x-python",
   "name": "python",
   "nbconvert_exporter": "python",
   "pygments_lexer": "ipython3",
   "version": "3.6.4"
  }
 },
 "nbformat": 4,
 "nbformat_minor": 2
}
