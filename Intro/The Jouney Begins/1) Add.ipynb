{
 "cells": [
  {
   "cell_type": "markdown",
   "metadata": {},
   "source": [
    "# 1) Add\n",
    "\n",
    "## Write a function that returns the sum of two numbers.\n",
    "\n",
    "**Example** \n",
    "\n",
    "For ```param1 = 1``` and ```param2 = 2 ```, the output should be ```add(param1, param2) = 3```.\n",
    "\n",
    "**Input/Output**\n",
    "\n",
    "* **[execution time limit] 4 seconds (py3)**\n",
    "\n",
    "* **[input] integer param1**\n",
    "\n",
    "- *Guaranteed constraints:*\n",
    "\n",
    "```-1000 ≤ param1 ≤ 1000.```\n",
    "\n",
    "* **[input] integer param2**\n",
    "\n",
    " *Guaranteed constraints:* \n",
    "\n",
    "```-1000 ≤ param2 ≤ 1000.```\n",
    "\n",
    "* **[output] integer**\n",
    "\n",
    "The sum of the two inputs."
   ]
  },
  {
   "cell_type": "markdown",
   "metadata": {},
   "source": [
    "### Function"
   ]
  },
  {
   "cell_type": "code",
   "execution_count": 1,
   "metadata": {},
   "outputs": [],
   "source": [
    "def add(param1, param2):\n",
    "\n",
    "    return param1+param2"
   ]
  },
  {
   "cell_type": "markdown",
   "metadata": {},
   "source": [
    "### Test"
   ]
  },
  {
   "cell_type": "code",
   "execution_count": 2,
   "metadata": {},
   "outputs": [
    {
     "name": "stdout",
     "output_type": "stream",
     "text": [
      "110\n",
      "200\n",
      "260\n",
      "29\n"
     ]
    }
   ],
   "source": [
    "print(add(10,100))\n",
    "print(add(100,100))\n",
    "print(add(240,20))\n",
    "print(add(12,17))"
   ]
  }
 ],
 "metadata": {
  "kernelspec": {
   "display_name": "Python 3",
   "language": "python",
   "name": "python3"
  },
  "language_info": {
   "codemirror_mode": {
    "name": "ipython",
    "version": 3
   },
   "file_extension": ".py",
   "mimetype": "text/x-python",
   "name": "python",
   "nbconvert_exporter": "python",
   "pygments_lexer": "ipython3",
   "version": "3.6.4"
  }
 },
 "nbformat": 4,
 "nbformat_minor": 2
}
