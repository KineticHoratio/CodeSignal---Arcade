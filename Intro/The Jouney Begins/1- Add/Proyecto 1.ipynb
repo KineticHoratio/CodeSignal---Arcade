{
 "cells": [
  {
   "cell_type": "markdown",
   "metadata": {},
   "source": [
    "# Proyecto 1: \n",
    "\n",
    "*Integrantes:*\n",
    "\n",
    "*Horacio Enriquez Nares*\n",
    "\n",
    "*Santiago Vega Covarrubias*\n",
    "\n",
    "*Luis Alberto Webster Gil*"
   ]
  },
  {
   "cell_type": "raw",
   "metadata": {},
   "source": [
    "Introducción:\n",
    "    "
   ]
  },
  {
   "cell_type": "raw",
   "metadata": {},
   "source": [
    "Objetivo Principal:\n",
    "    "
   ]
  },
  {
   "cell_type": "raw",
   "metadata": {},
   "source": [
    "Objetivos Secundarios:"
   ]
  },
  {
   "cell_type": "raw",
   "metadata": {},
   "source": [
    "Marco Teórico:"
   ]
  },
  {
   "cell_type": "markdown",
   "metadata": {},
   "source": [
    "*** Importación de Paqueterias Necesarias ***"
   ]
  },
  {
   "cell_type": "code",
   "execution_count": 1,
   "metadata": {},
   "outputs": [
    {
     "ename": "ImportError",
     "evalue": "DLL load failed: No se puede encontrar el módulo especificado.",
     "output_type": "error",
     "traceback": [
      "\u001b[1;31m---------------------------------------------------------------------------\u001b[0m",
      "\u001b[1;31mImportError\u001b[0m                               Traceback (most recent call last)",
      "\u001b[1;32m<ipython-input-1-d7fc13dd6386>\u001b[0m in \u001b[0;36m<module>\u001b[1;34m()\u001b[0m\n\u001b[0;32m      9\u001b[0m \u001b[1;32mimport\u001b[0m \u001b[0mseaborn\u001b[0m \u001b[1;32mas\u001b[0m \u001b[0msns\u001b[0m\u001b[1;33m\u001b[0m\u001b[0m\n\u001b[0;32m     10\u001b[0m \u001b[1;32mimport\u001b[0m \u001b[0msklearn\u001b[0m\u001b[1;33m.\u001b[0m\u001b[0mcovariance\u001b[0m \u001b[1;32mas\u001b[0m \u001b[0mskcov\u001b[0m\u001b[1;33m\u001b[0m\u001b[0m\n\u001b[1;32m---> 11\u001b[1;33m \u001b[1;32mimport\u001b[0m \u001b[0mcvxopt\u001b[0m \u001b[1;32mas\u001b[0m \u001b[0mopt\u001b[0m\u001b[1;33m\u001b[0m\u001b[0m\n\u001b[0m\u001b[0;32m     12\u001b[0m \u001b[1;32mfrom\u001b[0m \u001b[0mcvxopt\u001b[0m \u001b[1;32mimport\u001b[0m \u001b[0mblas\u001b[0m\u001b[1;33m,\u001b[0m \u001b[0msolvers\u001b[0m\u001b[1;33m\u001b[0m\u001b[0m\n\u001b[0;32m     13\u001b[0m \u001b[0msolvers\u001b[0m\u001b[1;33m.\u001b[0m\u001b[0moptions\u001b[0m\u001b[1;33m[\u001b[0m\u001b[1;34m'show_progress'\u001b[0m\u001b[1;33m]\u001b[0m \u001b[1;33m=\u001b[0m \u001b[1;32mFalse\u001b[0m\u001b[1;33m\u001b[0m\u001b[0m\n",
      "\u001b[1;32m~\\Anaconda3\\lib\\site-packages\\cvxopt\\__init__.py\u001b[0m in \u001b[0;36m<module>\u001b[1;34m()\u001b[0m\n\u001b[0;32m     30\u001b[0m \u001b[1;31m# You should have received a copy of the GNU General Public License\u001b[0m\u001b[1;33m\u001b[0m\u001b[1;33m\u001b[0m\u001b[0m\n\u001b[0;32m     31\u001b[0m \u001b[1;33m\u001b[0m\u001b[0m\n\u001b[1;32m---> 32\u001b[1;33m \u001b[1;32mimport\u001b[0m \u001b[0mcvxopt\u001b[0m\u001b[1;33m.\u001b[0m\u001b[0mbase\u001b[0m\u001b[1;33m\u001b[0m\u001b[0m\n\u001b[0m\u001b[0;32m     33\u001b[0m \u001b[1;33m\u001b[0m\u001b[0m\n\u001b[0;32m     34\u001b[0m \u001b[1;32mdef\u001b[0m \u001b[0mnormal\u001b[0m\u001b[1;33m(\u001b[0m\u001b[0mnrows\u001b[0m\u001b[1;33m,\u001b[0m \u001b[0mncols\u001b[0m\u001b[1;33m=\u001b[0m\u001b[1;36m1\u001b[0m\u001b[1;33m,\u001b[0m \u001b[0mmean\u001b[0m\u001b[1;33m=\u001b[0m\u001b[1;36m0.0\u001b[0m\u001b[1;33m,\u001b[0m \u001b[0mstd\u001b[0m\u001b[1;33m=\u001b[0m\u001b[1;36m1.0\u001b[0m\u001b[1;33m)\u001b[0m\u001b[1;33m:\u001b[0m\u001b[1;33m\u001b[0m\u001b[0m\n",
      "\u001b[1;31mImportError\u001b[0m: DLL load failed: No se puede encontrar el módulo especificado."
     ]
    }
   ],
   "source": [
    "#importar los paquetes que se van a usar\n",
    "import pandas as pd\n",
    "import numpy as np\n",
    "import datetime\n",
    "from datetime import datetime\n",
    "import scipy.stats as stats\n",
    "import scipy as sp\n",
    "import matplotlib.pyplot as plt\n",
    "import seaborn as sns\n",
    "import sklearn.covariance as skcov\n",
    "import cvxopt as opt\n",
    "from cvxopt import blas, solvers\n",
    "solvers.options['show_progress'] = False\n",
    "%matplotlib inline\n",
    "pd.set_option('display.notebook_repr_html', True)\n",
    "pd.set_option('display.max_columns', 6)\n",
    "pd.set_option('display.max_rows', 10)\n",
    "pd.set_option('display.width', 78)\n",
    "pd.set_option('precision', 3)"
   ]
  },
  {
   "cell_type": "markdown",
   "metadata": {},
   "source": [
    "## 1) Descarga de Datos"
   ]
  },
  {
   "cell_type": "code",
   "execution_count": 2,
   "metadata": {},
   "outputs": [
    {
     "data": {
      "text/html": [
       "<div>\n",
       "<table border=\"1\" class=\"dataframe\">\n",
       "  <thead>\n",
       "    <tr style=\"text-align: right;\">\n",
       "      <th>Ticker</th>\n",
       "      <th>AAPL</th>\n",
       "      <th>AXP</th>\n",
       "      <th>BA</th>\n",
       "      <th>...</th>\n",
       "      <th>VZ</th>\n",
       "      <th>WMT</th>\n",
       "      <th>XOM</th>\n",
       "    </tr>\n",
       "    <tr>\n",
       "      <th>Date</th>\n",
       "      <th></th>\n",
       "      <th></th>\n",
       "      <th></th>\n",
       "      <th></th>\n",
       "      <th></th>\n",
       "      <th></th>\n",
       "      <th></th>\n",
       "    </tr>\n",
       "  </thead>\n",
       "  <tbody>\n",
       "    <tr>\n",
       "      <th>2010-01-04</th>\n",
       "      <td>27.505</td>\n",
       "      <td>36.426</td>\n",
       "      <td>46.184</td>\n",
       "      <td>...</td>\n",
       "      <td>21.398</td>\n",
       "      <td>44.424</td>\n",
       "      <td>55.127</td>\n",
       "    </tr>\n",
       "    <tr>\n",
       "      <th>2010-01-05</th>\n",
       "      <td>27.553</td>\n",
       "      <td>36.346</td>\n",
       "      <td>47.696</td>\n",
       "      <td>...</td>\n",
       "      <td>21.436</td>\n",
       "      <td>43.982</td>\n",
       "      <td>55.342</td>\n",
       "    </tr>\n",
       "    <tr>\n",
       "      <th>2010-01-06</th>\n",
       "      <td>27.114</td>\n",
       "      <td>36.933</td>\n",
       "      <td>49.143</td>\n",
       "      <td>...</td>\n",
       "      <td>20.820</td>\n",
       "      <td>43.883</td>\n",
       "      <td>55.821</td>\n",
       "    </tr>\n",
       "    <tr>\n",
       "      <th>2010-01-07</th>\n",
       "      <td>27.064</td>\n",
       "      <td>37.532</td>\n",
       "      <td>51.133</td>\n",
       "      <td>...</td>\n",
       "      <td>20.696</td>\n",
       "      <td>43.908</td>\n",
       "      <td>55.645</td>\n",
       "    </tr>\n",
       "    <tr>\n",
       "      <th>2010-01-08</th>\n",
       "      <td>27.244</td>\n",
       "      <td>37.506</td>\n",
       "      <td>50.639</td>\n",
       "      <td>...</td>\n",
       "      <td>20.709</td>\n",
       "      <td>43.687</td>\n",
       "      <td>55.422</td>\n",
       "    </tr>\n",
       "    <tr>\n",
       "      <th>...</th>\n",
       "      <td>...</td>\n",
       "      <td>...</td>\n",
       "      <td>...</td>\n",
       "      <td>...</td>\n",
       "      <td>...</td>\n",
       "      <td>...</td>\n",
       "      <td>...</td>\n",
       "    </tr>\n",
       "    <tr>\n",
       "      <th>2016-12-23</th>\n",
       "      <td>115.088</td>\n",
       "      <td>74.067</td>\n",
       "      <td>154.355</td>\n",
       "      <td>...</td>\n",
       "      <td>51.806</td>\n",
       "      <td>68.145</td>\n",
       "      <td>88.192</td>\n",
       "    </tr>\n",
       "    <tr>\n",
       "      <th>2016-12-27</th>\n",
       "      <td>115.819</td>\n",
       "      <td>74.077</td>\n",
       "      <td>154.032</td>\n",
       "      <td>...</td>\n",
       "      <td>51.768</td>\n",
       "      <td>68.302</td>\n",
       "      <td>88.231</td>\n",
       "    </tr>\n",
       "    <tr>\n",
       "      <th>2016-12-28</th>\n",
       "      <td>115.325</td>\n",
       "      <td>73.474</td>\n",
       "      <td>152.682</td>\n",
       "      <td>...</td>\n",
       "      <td>51.575</td>\n",
       "      <td>67.919</td>\n",
       "      <td>87.794</td>\n",
       "    </tr>\n",
       "    <tr>\n",
       "      <th>2016-12-29</th>\n",
       "      <td>115.296</td>\n",
       "      <td>73.029</td>\n",
       "      <td>152.281</td>\n",
       "      <td>...</td>\n",
       "      <td>51.864</td>\n",
       "      <td>67.870</td>\n",
       "      <td>87.842</td>\n",
       "    </tr>\n",
       "    <tr>\n",
       "      <th>2016-12-30</th>\n",
       "      <td>114.397</td>\n",
       "      <td>73.188</td>\n",
       "      <td>152.271</td>\n",
       "      <td>...</td>\n",
       "      <td>51.517</td>\n",
       "      <td>67.733</td>\n",
       "      <td>87.755</td>\n",
       "    </tr>\n",
       "  </tbody>\n",
       "</table>\n",
       "<p>1762 rows × 28 columns</p>\n",
       "</div>"
      ],
      "text/plain": [
       "Ticker         AAPL     AXP       BA   ...        VZ     WMT     XOM\n",
       "Date                                   ...                          \n",
       "2010-01-04   27.505  36.426   46.184   ...    21.398  44.424  55.127\n",
       "2010-01-05   27.553  36.346   47.696   ...    21.436  43.982  55.342\n",
       "2010-01-06   27.114  36.933   49.143   ...    20.820  43.883  55.821\n",
       "2010-01-07   27.064  37.532   51.133   ...    20.696  43.908  55.645\n",
       "2010-01-08   27.244  37.506   50.639   ...    20.709  43.687  55.422\n",
       "...             ...     ...      ...   ...       ...     ...     ...\n",
       "2016-12-23  115.088  74.067  154.355   ...    51.806  68.145  88.192\n",
       "2016-12-27  115.819  74.077  154.032   ...    51.768  68.302  88.231\n",
       "2016-12-28  115.325  73.474  152.682   ...    51.575  67.919  87.794\n",
       "2016-12-29  115.296  73.029  152.281   ...    51.864  67.870  87.842\n",
       "2016-12-30  114.397  73.188  152.271   ...    51.517  67.733  87.755\n",
       "\n",
       "[1762 rows x 28 columns]"
      ]
     },
     "execution_count": 2,
     "metadata": {},
     "output_type": "execute_result"
    }
   ],
   "source": [
    "assets = ['MMM','AXP','AAPL','BA','CAT','CVX','CSCO','KO','DIS','XOM','GE','GS','HD','IBM','INTC','JNJ','JPM','MCD','MRK','MSFT',\n",
    "          'NKE','PFE','PG','TRV','UNH','VZ','V','WMT']\n",
    "closes=Py.get_historical_closes(assets, '2010-01-01', '2016-12-31')\n",
    "closes"
   ]
  },
  {
   "cell_type": "code",
   "execution_count": null,
   "metadata": {
    "collapsed": true
   },
   "outputs": [],
   "source": [
    "Py.get_historical_closes"
   ]
  }
 ],
 "metadata": {
  "anaconda-cloud": {},
  "kernelspec": {
   "display_name": "Python [default]",
   "language": "python",
   "name": "python3"
  },
  "language_info": {
   "codemirror_mode": {
    "name": "ipython",
    "version": 3
   },
   "file_extension": ".py",
   "mimetype": "text/x-python",
   "name": "python",
   "nbconvert_exporter": "python",
   "pygments_lexer": "ipython3",
   "version": "3.5.4"
  }
 },
 "nbformat": 4,
 "nbformat_minor": 2
}
